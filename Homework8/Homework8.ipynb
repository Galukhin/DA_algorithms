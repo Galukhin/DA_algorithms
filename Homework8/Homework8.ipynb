{
 "cells": [
  {
   "cell_type": "markdown",
   "metadata": {},
   "source": [
    "## Урок 8. Снижение размерности данных\n",
    "\n",
    "#### Задание 1. \n",
    "\n",
    "Написать свою реализацию метода главных компонент с помощью сингулярного разложения с использованием функции numpy.linalg.svd()\n",
    "\n",
    "#### Задание 2.\n",
    "\n",
    "Обучить любую модель классификации на датасете IRIS до применения PCA и после него. Сравнить качество классификации по отложенной выборке."
   ]
  },
  {
   "cell_type": "code",
   "execution_count": 1,
   "metadata": {},
   "outputs": [],
   "source": [
    "import numpy as np\n",
    "from sklearn import datasets\n",
    "import matplotlib.pyplot as plt"
   ]
  },
  {
   "cell_type": "code",
   "execution_count": 2,
   "metadata": {},
   "outputs": [],
   "source": [
    "# Загрузим игрушечный датасет из sklearn\n",
    "iris = datasets.load_iris()\n",
    "X = iris.data"
   ]
  },
  {
   "cell_type": "code",
   "execution_count": 3,
   "metadata": {},
   "outputs": [],
   "source": [
    "# Для начала отмасштабируем выборку\n",
    "X_ = X.astype(float)\n",
    "\n",
    "rows, cols = X_.shape\n",
    "\n",
    "# центрирование - вычитание из каждого значения среднего по строке\n",
    "means = X_.mean(0)\n",
    "for i in range(rows):\n",
    "    for j in range(cols):\n",
    "        X_[i, j] -= means[j]\n",
    "\n",
    "# деление каждого значения на стандартное отклонение\n",
    "std = np.std(X_, axis=0)\n",
    "for i in range(cols):\n",
    "    for j in range(rows):\n",
    "        X_[j][i] /= std[i]"
   ]
  },
  {
   "cell_type": "markdown",
   "metadata": {},
   "source": [
    "#### Задание 1:"
   ]
  },
  {
   "cell_type": "code",
   "execution_count": 4,
   "metadata": {},
   "outputs": [
    {
     "name": "stdout",
     "output_type": "stream",
     "text": [
      "[20.92306556 11.7091661   4.69185798  1.76273239]\n",
      "[[ 0.52106591 -0.26934744  0.5804131   0.56485654]\n",
      " [-0.37741762 -0.92329566 -0.02449161 -0.06694199]\n",
      " [ 0.71956635 -0.24438178 -0.14212637 -0.63427274]\n",
      " [ 0.26128628 -0.12350962 -0.80144925  0.52359713]]\n"
     ]
    }
   ],
   "source": [
    "U, s, W = np.linalg.svd(X_)\n",
    "print(s)\n",
    "print(W)"
   ]
  },
  {
   "cell_type": "markdown",
   "metadata": {},
   "source": [
    "Строки матрицы W являются собственными векторами, соответствующими сингулярным числам из множества s. Возьмем для преобразования только первые строки"
   ]
  },
  {
   "cell_type": "code",
   "execution_count": 5,
   "metadata": {},
   "outputs": [],
   "source": [
    "Z = X_ @ W[:2,:].T"
   ]
  },
  {
   "cell_type": "code",
   "execution_count": 6,
   "metadata": {},
   "outputs": [
    {
     "data": {
      "image/png": "[encoded data removed]",
      "text/plain": [
       "<Figure size 432x288 with 1 Axes>"
      ]
     },
     "metadata": {
      "needs_background": "light"
     },
     "output_type": "display_data"
    }
   ],
   "source": [
    "plt.figure()\n",
    "y = iris.target\n",
    "for c, i in zip(\"rgb\", [0, 1, 2]):\n",
    "    plt.scatter(Z[y==i, 0], Z[y==i, 1], c=c)\n",
    "plt.xlabel('Главная компонента 1')\n",
    "plt.ylabel('Главная компонента 2')\n",
    "plt.title('PCA датасета IRIS')\n",
    "plt.show()"
   ]
  },
  {
   "cell_type": "markdown",
   "metadata": {},
   "source": [
    "Как видно, снижение размерности данных через сингулярное разложение матриц абсолютно идентично снижению размерности через собственные вектора и собственные значения матрицы ковариации."
   ]
  },
  {
   "cell_type": "markdown",
   "metadata": {},
   "source": [
    "#### Задание 2:"
   ]
  },
  {
   "cell_type": "code",
   "execution_count": 7,
   "metadata": {},
   "outputs": [],
   "source": [
    "class Node:\n",
    "    \n",
    "    def __init__(self, index, t, true_branch, false_branch):\n",
    "        self.index = index  # индекс признака, по которому ведется сравнение с порогом в этом узле\n",
    "        self.t = t  # значение порога\n",
    "        self.true_branch = true_branch  # поддерево, удовлетворяющее условию в узле\n",
    "        self.false_branch = false_branch  # поддерево, не удовлетворяющее условию в узле\n",
    "        \n",
    "        \n",
    "class Leaf:\n",
    "    \n",
    "    def __init__(self, data, labels):\n",
    "        self.data = data\n",
    "        self.labels = labels\n",
    "        self.prediction = self.predict()\n",
    "        \n",
    "    def predict(self):\n",
    "        # подсчет количества объектов разных классов\n",
    "        classes = {}  # сформируем словарь \"класс: количество объектов\"\n",
    "        for label in self.labels:\n",
    "            if label not in classes:\n",
    "                classes[label] = 0\n",
    "            classes[label] += 1\n",
    "        #  найдем класс, количество объектов которого будет максимальным в этом листе и вернем его    \n",
    "        prediction = max(classes, key=classes.get)\n",
    "        return prediction        \n",
    "    \n",
    "\n",
    "class DTC:\n",
    "    \n",
    "    def __init__(self, min_leaf=1, criterion='gini', max_depth=None, max_leaf_count=None):\n",
    "        self.min_leaf = min_leaf\n",
    "        self.criterion = criterion\n",
    "        self.max_depth = max_depth\n",
    "        self.max_leaf_count = max_leaf_count \n",
    "        self._tree = None # дерево решений\n",
    "        self.tasks = [] # список задач для создания дерева 'сначала вширь'\n",
    "        self.nodes = [{ # список узлов для создания дерева 'сначала вширь'\n",
    "            'id_': 0,\n",
    "            'parent_id': None,\n",
    "            't': None,\n",
    "            'index': None,\n",
    "            'is_left': None,\n",
    "            'is_node': True\n",
    "        }]\n",
    "        self.leaf_count = 0 # счетчик листьев\n",
    "        \n",
    "    \n",
    "    def _criterion(self, labels):\n",
    "        #  подсчет количества объектов разных классов\n",
    "        classes = {}\n",
    "        for label in labels:\n",
    "            if label not in classes:\n",
    "                classes[label] = 0\n",
    "            classes[label] += 1\n",
    "\n",
    "        #  расчет критерия\n",
    "        if self.criterion == 'gini':\n",
    "            impurity = 1\n",
    "            for label in classes:\n",
    "                p = classes[label] / len(labels)\n",
    "                impurity -= p ** 2\n",
    "        elif self.criterion == 'shannon':\n",
    "            impurity = 0\n",
    "            for label in classes:\n",
    "                p = classes[label] / len(labels)\n",
    "                part = p * np.log2(p) if p else 0\n",
    "                impurity -= part\n",
    "\n",
    "        return impurity  \n",
    "    \n",
    "    \n",
    "    def _quality(self, left_labels, right_labels, current_criterion):\n",
    "\n",
    "        # доля выбоки, ушедшая в левое поддерево\n",
    "        p = float(left_labels.shape[0]) / (left_labels.shape[0] + right_labels.shape[0])\n",
    "\n",
    "        return current_criterion - p * self._criterion(left_labels) - (1 - p) * self._criterion(right_labels)\n",
    "\n",
    "    \n",
    "    def _split(self, data, labels, index, t):\n",
    "\n",
    "        left = np.where(data[:, index] <= t)\n",
    "        right = np.where(data[:, index] > t)\n",
    "\n",
    "        true_data = data[left]\n",
    "        false_data = data[right]\n",
    "        true_labels = labels[left]\n",
    "        false_labels = labels[right]\n",
    "\n",
    "        return true_data, false_data, true_labels, false_labels\n",
    "    \n",
    "    \n",
    "    def _find_best_split(self, data, labels):\n",
    "\n",
    "        current_criterion = self._criterion(labels)\n",
    "\n",
    "        best_quality = 0\n",
    "        best_t = None\n",
    "        best_index = None\n",
    "\n",
    "        n_features = data.shape[1]\n",
    "\n",
    "        for index in range(n_features):\n",
    "            # будем проверять только уникальные значения признака, исключая повторения\n",
    "            t_values = np.unique([row[index] for row in data])\n",
    "\n",
    "            for t in t_values:\n",
    "                true_data, false_data, true_labels, false_labels = self._split(data, labels, index, t)\n",
    "                #  пропускаем разбиения, в которых в узле остается менее 5 объектов\n",
    "                if len(true_data) < self.min_leaf or len(false_data) < self.min_leaf:\n",
    "                    continue\n",
    "\n",
    "                current_quality = self._quality(true_labels, false_labels, current_criterion)\n",
    "\n",
    "                #  выбираем порог, на котором получается максимальный прирост качества\n",
    "                if current_quality > best_quality:\n",
    "                    best_quality, best_t, best_index = current_quality, t, index\n",
    "\n",
    "        return best_quality, best_t, best_index\n",
    "    \n",
    "    \n",
    "    def _build_tree(self, data, labels, level=0, id_=0):\n",
    "\n",
    "        quality, t, index = self._find_best_split(data, labels)\n",
    "        \n",
    "        # Проверяем, что сумма количества листьев и узлов в списке вместе с текущей задачей меньше self.max_leaf_count:\n",
    "        if self.max_leaf_count is not None:\n",
    "            max_leaf_flag = False if self.leaf_count + len(self.tasks) + 1 < self.max_leaf_count else True\n",
    "        else:\n",
    "            max_leaf_flag = False\n",
    "\n",
    "        #  Базовый случай - прекращаем рекурсию, когда нет прироста в качества или дерево достигло максимальной глубины,\n",
    "        # или количество листьев больше или равно максимальному\n",
    "        if quality == 0 or level == self.max_depth or max_leaf_flag:\n",
    "            self.leaf_count += 1\n",
    "            for itm in self.nodes:\n",
    "                if itm['id_'] == id_:\n",
    "                    itm['is_node'] = False\n",
    "                    itm['data'] = data\n",
    "                    itm['labels'] = labels\n",
    "            if len(self.tasks):\n",
    "                self._build_tree(*self.tasks.pop(0))\n",
    "        else:\n",
    "            true_data, false_data, true_labels, false_labels = self._split(data, labels, index, t)\n",
    "            for itm in self.nodes:\n",
    "                if itm['id_'] == id_:\n",
    "                    itm['t'] = t\n",
    "                    itm['index'] = index\n",
    "\n",
    "            # Добавляем в список задач и список узлов две ветки поддерева\n",
    "            level += 1\n",
    "            current_len = len(self.nodes)\n",
    "            self.tasks.append([true_data, true_labels, level, current_len])\n",
    "            self.tasks.append([false_data, false_labels, level, current_len + 1])\n",
    "            self.nodes.append({\n",
    "                'id_': current_len,\n",
    "                'parent_id': id_,\n",
    "                't': None,\n",
    "                'index': None,\n",
    "                'is_left': True,\n",
    "                'is_node': True\n",
    "            })\n",
    "            self.nodes.append({\n",
    "                'id_': current_len + 1,\n",
    "                'parent_id': id_,\n",
    "                't': None,\n",
    "                'index': None,\n",
    "                'is_left': False,\n",
    "                'is_node': True\n",
    "            })\n",
    "\n",
    "\n",
    "            self._build_tree(*self.tasks.pop(0))\n",
    "\n",
    "    \n",
    "    def _create_instance(self, id_=0): # функция создания дерева по списку узлов self.nodes\n",
    "        for itm in self.nodes:\n",
    "            if itm['id_'] == id_:\n",
    "                if itm['is_node']:\n",
    "                    index = itm['index']\n",
    "                    t = itm['t']\n",
    "                    break\n",
    "                else:\n",
    "                    return Leaf(itm['data'], itm['labels'])\n",
    "        for itm in self.nodes:\n",
    "            if itm['parent_id'] == id_ and itm['is_left']:\n",
    "                true_branch = self._create_instance(itm['id_'])\n",
    "            if itm['parent_id'] == id_ and not itm['is_left']:\n",
    "                false_branch = self._create_instance(itm['id_'])\n",
    "        \n",
    "        return Node(index, t, true_branch, false_branch)\n",
    "    \n",
    "    \n",
    "    def fit(self, data, labels):\n",
    "        self._build_tree(data, labels, 0, 0)\n",
    "        self._tree = self._create_instance()\n",
    "        \n",
    "        \n",
    "    def _classify_object(self, obj, node):\n",
    "\n",
    "        #  Останавливаем рекурсию, если достигли листа\n",
    "        if isinstance(node, Leaf):\n",
    "            answer = node.prediction\n",
    "            return answer\n",
    "\n",
    "        if obj[node.index] <= node.t:\n",
    "            return self._classify_object(obj, node.true_branch)\n",
    "        else:\n",
    "            return self._classify_object(obj, node.false_branch)\n",
    "    \n",
    "    \n",
    "    def predict(self, data):\n",
    "\n",
    "        classes = []\n",
    "        for obj in data:\n",
    "            prediction = self._classify_object(obj, self._tree)\n",
    "            classes.append(prediction)\n",
    "        return classes\n",
    "    \n",
    "    \n",
    "    def print_tree(self):\n",
    "        node = self._tree\n",
    "        self._print_nodes(node)\n",
    "    \n",
    "    \n",
    "    def _print_nodes(self, node, spacing=\"\"):\n",
    "\n",
    "        # Если лист, то выводим его прогноз\n",
    "        if isinstance(node, Leaf):\n",
    "            print(spacing + \"Прогноз:\", node.prediction)\n",
    "            return\n",
    "\n",
    "        # Выведем значение индекса и порога на этом узле\n",
    "        print(spacing + 'Индекс', str(node.index))\n",
    "        print(spacing + 'Порог', str(node.t))\n",
    "\n",
    "        # Рекурсионный вызов функции на положительном поддереве\n",
    "        print (spacing + '--> True:')\n",
    "        self._print_nodes(node.true_branch, spacing + \"  \")\n",
    "\n",
    "        # Рекурсионный вызов функции на положительном поддереве\n",
    "        print (spacing + '--> False:')\n",
    "        self._print_nodes(node.false_branch, spacing + \"  \")\n",
    "\n",
    "        "
   ]
  },
  {
   "cell_type": "markdown",
   "metadata": {},
   "source": [
    "Разделим оригинальную отмасштабированную выборку на трейн и тест:"
   ]
  },
  {
   "cell_type": "code",
   "execution_count": 8,
   "metadata": {},
   "outputs": [],
   "source": [
    "from sklearn.model_selection import train_test_split"
   ]
  },
  {
   "cell_type": "code",
   "execution_count": 9,
   "metadata": {},
   "outputs": [],
   "source": [
    "X_train, X_test, y_train, y_test = train_test_split(X_, y, test_size=0.2, random_state=42, stratify=y)"
   ]
  },
  {
   "cell_type": "code",
   "execution_count": 10,
   "metadata": {},
   "outputs": [],
   "source": [
    "# Введем функцию подсчета точности как доли правильных ответов\n",
    "def accuracy_metric(actual, predicted):\n",
    "    correct = 0\n",
    "    for i in range(len(actual)):\n",
    "        if actual[i] == predicted[i]:\n",
    "            correct += 1\n",
    "    return correct / float(len(actual)) * 100.0"
   ]
  },
  {
   "cell_type": "code",
   "execution_count": 11,
   "metadata": {},
   "outputs": [],
   "source": [
    "def draw_hypreparameters(train_accuracy, test_accuracy, xlabel, ylabel):\n",
    "    plt.figure(figsize = (16, 7))\n",
    "    plt.plot(range(1, len(train_accuracy)+1), train_accuracy, label='train')\n",
    "    plt.plot(range(1, len(train_accuracy)+1), test_accuracy, label='test')\n",
    "    plt.xlabel(xlabel)\n",
    "    plt.ylabel(ylabel)\n",
    "    plt.legend()\n",
    "    plt.grid()\n",
    "    plt.show()"
   ]
  },
  {
   "cell_type": "markdown",
   "metadata": {},
   "source": [
    "Подберем гиперпараметры для модели:"
   ]
  },
  {
   "cell_type": "code",
   "execution_count": 12,
   "metadata": {},
   "outputs": [],
   "source": [
    "train_accuracy = []\n",
    "test_accuracy = []\n",
    "for itm in range(1, 11):\n",
    "    dtc = DTC(min_leaf=itm)\n",
    "    dtc.fit(X_train, y_train)\n",
    "    train_answers = dtc.predict(X_train)\n",
    "    answers = dtc.predict(X_test)\n",
    "    train_accuracy.append(accuracy_metric(y_train, train_answers))\n",
    "    test_accuracy.append(accuracy_metric(y_test, answers))"
   ]
  },
  {
   "cell_type": "code",
   "execution_count": 13,
   "metadata": {},
   "outputs": [
    {
     "data": {
      "image/png": "[encoded data removed]",
      "text/plain": [
       "<Figure size 1152x504 with 1 Axes>"
      ]
     },
     "metadata": {
      "needs_background": "light"
     },
     "output_type": "display_data"
    }
   ],
   "source": [
    "draw_hypreparameters(train_accuracy, test_accuracy, 'min_leaf', 'Accuracy')"
   ]
  },
  {
   "cell_type": "code",
   "execution_count": 14,
   "metadata": {},
   "outputs": [],
   "source": [
    "train_accuracy = []\n",
    "test_accuracy = []\n",
    "for itm in range(1, 11):\n",
    "    dtc = DTC(max_depth=itm)\n",
    "    dtc.fit(X_train, y_train)\n",
    "    train_answers = dtc.predict(X_train)\n",
    "    answers = dtc.predict(X_test)\n",
    "    train_accuracy.append(accuracy_metric(y_train, train_answers))\n",
    "    test_accuracy.append(accuracy_metric(y_test, answers))"
   ]
  },
  {
   "cell_type": "code",
   "execution_count": 15,
   "metadata": {},
   "outputs": [
    {
     "data": {
      "image/png": "[encoded data removed]",
      "text/plain": [
       "<Figure size 1152x504 with 1 Axes>"
      ]
     },
     "metadata": {
      "needs_background": "light"
     },
     "output_type": "display_data"
    }
   ],
   "source": [
    "draw_hypreparameters(train_accuracy, test_accuracy, 'max_depth', 'Accuracy')"
   ]
  },
  {
   "cell_type": "markdown",
   "metadata": {},
   "source": [
    "Обучим модель:"
   ]
  },
  {
   "cell_type": "code",
   "execution_count": 16,
   "metadata": {},
   "outputs": [
    {
     "name": "stdout",
     "output_type": "stream",
     "text": [
      "96.66666666666667\n",
      "96.66666666666667\n"
     ]
    }
   ],
   "source": [
    "simple_futures_model = DTC(min_leaf=5)\n",
    "simple_futures_model.fit(X_train, y_train)\n",
    "train_answers = simple_futures_model.predict(X_train)\n",
    "answers = simple_futures_model.predict(X_test)\n",
    "print(accuracy_metric(y_train, train_answers))\n",
    "print(accuracy_metric(y_test, answers))"
   ]
  },
  {
   "cell_type": "markdown",
   "metadata": {},
   "source": [
    "Получили очень высокую метрику классификации. Теперь проделаем все то же самое для датасета со сниженной размерностью данных:"
   ]
  },
  {
   "cell_type": "code",
   "execution_count": 17,
   "metadata": {},
   "outputs": [],
   "source": [
    "X_train, X_test, y_train, y_test = train_test_split(Z, y, test_size=0.2, random_state=42, stratify=y)"
   ]
  },
  {
   "cell_type": "code",
   "execution_count": 18,
   "metadata": {},
   "outputs": [],
   "source": [
    "train_accuracy = []\n",
    "test_accuracy = []\n",
    "for itm in range(1, 11):\n",
    "    dtc = DTC(min_leaf=itm)\n",
    "    dtc.fit(X_train, y_train)\n",
    "    train_answers = dtc.predict(X_train)\n",
    "    answers = dtc.predict(X_test)\n",
    "    train_accuracy.append(accuracy_metric(y_train, train_answers))\n",
    "    test_accuracy.append(accuracy_metric(y_test, answers))"
   ]
  },
  {
   "cell_type": "code",
   "execution_count": 19,
   "metadata": {},
   "outputs": [
    {
     "data": {
      "image/png": "[encoded data removed]",
      "text/plain": [
       "<Figure size 1152x504 with 1 Axes>"
      ]
     },
     "metadata": {
      "needs_background": "light"
     },
     "output_type": "display_data"
    }
   ],
   "source": [
    "draw_hypreparameters(train_accuracy, test_accuracy, 'min_leaf', 'Accuracy')"
   ]
  },
  {
   "cell_type": "code",
   "execution_count": 20,
   "metadata": {},
   "outputs": [],
   "source": [
    "train_accuracy = []\n",
    "test_accuracy = []\n",
    "for itm in range(1, 11):\n",
    "    dtc = DTC(max_depth=itm)\n",
    "    dtc.fit(X_train, y_train)\n",
    "    train_answers = dtc.predict(X_train)\n",
    "    answers = dtc.predict(X_test)\n",
    "    train_accuracy.append(accuracy_metric(y_train, train_answers))\n",
    "    test_accuracy.append(accuracy_metric(y_test, answers))"
   ]
  },
  {
   "cell_type": "code",
   "execution_count": 21,
   "metadata": {},
   "outputs": [
    {
     "data": {
      "image/png": "[encoded data removed]",
      "text/plain": [
       "<Figure size 1152x504 with 1 Axes>"
      ]
     },
     "metadata": {
      "needs_background": "light"
     },
     "output_type": "display_data"
    }
   ],
   "source": [
    "draw_hypreparameters(train_accuracy, test_accuracy, 'max_depth', 'Accuracy')"
   ]
  },
  {
   "cell_type": "code",
   "execution_count": 22,
   "metadata": {},
   "outputs": [
    {
     "name": "stdout",
     "output_type": "stream",
     "text": [
      "95.0\n",
      "90.0\n"
     ]
    }
   ],
   "source": [
    "PCA_futures_model = DTC(min_leaf=5)\n",
    "PCA_futures_model.fit(X_train, y_train)\n",
    "train_answers = PCA_futures_model.predict(X_train)\n",
    "answers = PCA_futures_model.predict(X_test)\n",
    "print(accuracy_metric(y_train, train_answers))\n",
    "print(accuracy_metric(y_test, answers))"
   ]
  },
  {
   "cell_type": "markdown",
   "metadata": {},
   "source": [
    "Как видно, качество метрики на трейне и тесте немного упало, но метрика все равно осталась высокой. Собственно, при понижении размерности, куммулятивноя доля дисперсии описываемая первыми двумя главными компонентами, составляет около 95%. Поэтому нельзя было ожидать повышения качества работы модели при понижении размерности. Но главное при этом, что метрика качества осталась достаточно высока. При очень большом количестве признаков такое снижение размерности может быть очень полезным."
   ]
  }
 ],
 "metadata": {
  "kernelspec": {
   "display_name": "Python 3",
   "language": "python",
   "name": "python3"
  },
  "language_info": {
   "codemirror_mode": {
    "name": "ipython",
    "version": 3
   },
   "file_extension": ".py",
   "mimetype": "text/x-python",
   "name": "python",
   "nbconvert_exporter": "python",
   "pygments_lexer": "ipython3",
   "version": "3.8.5"
  }
 },
 "nbformat": 4,
 "nbformat_minor": 4
}
